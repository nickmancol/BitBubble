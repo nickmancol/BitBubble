{
 "cells": [
  {
   "cell_type": "markdown",
   "metadata": {},
   "source": [
    "# Bitbubble\n",
    "\n",
    "Simplified ABM model that links the **\"How to grow a bubble: A model of myopic adapting agents\"** with the **\"Leader–follower model for agent based simulation of social collective behavior during egress\"** in the bitcoin bubble model space"
   ]
  },
  {
   "cell_type": "code",
   "execution_count": 6,
   "metadata": {},
   "outputs": [
    {
     "data": {
      "text/plain": [
       "<matplotlib.pyplot.xkcd.<locals>.dummy_ctx at 0x7f75ad1bb240>"
      ]
     },
     "execution_count": 6,
     "metadata": {},
     "output_type": "execute_result"
    }
   ],
   "source": [
    "import numpy as np\n",
    "import pandas as pd\n",
    "import networkx as nx\n",
    "import matplotlib as mpl\n",
    "from mesa import Agent, Model\n",
    "import matplotlib.pyplot as plt\n",
    "from mesa.time import RandomActivation\n",
    "%matplotlib inline\n",
    "#print(mpl.style.available)\n",
    "mpl.style.use('ggplot')\n",
    "plt.xkcd()"
   ]
  },
  {
   "cell_type": "code",
   "execution_count": 5,
   "metadata": {},
   "outputs": [],
   "source": [
    "class Investor(Agent):\n",
    "    \"\"\"An investor with fixed initial cash and coins.\"\"\"\n",
    "    def __init__(self, unique_id, model, C1=1, C2=1, C3=1\n",
    "                 , alpha=0.95, Omega=2, g=0.02, cash=1.0, coins=1.0):\n",
    "        super().__init__(unique_id, model)\n",
    "        self.cash = cash\n",
    "        self.coins = coins\n",
    "        self.alpha = alpha\n",
    "        self.Omega = Omega\n",
    "        self.g = g\n",
    "        #TODO: how to generate closed interval random numbers?\n",
    "        self.c1 = np.random.uniform(0.0, C1)\n",
    "        self.c2 = np.random.uniform(0.0, C1)\n",
    "        self.c3 = np.random.uniform(0.0, C3)\n",
    "        self.w_min = np.random.uniform(0.0, Omega)\n",
    "        \n",
    "    def collect_private_info(self):\n",
    "        return np.random.normal()"
   ]
  },
  {
   "cell_type": "code",
   "execution_count": 4,
   "metadata": {},
   "outputs": [],
   "source": [
    "class MarketMaker(Model):\n",
    "    \"\"\"A model with some number of investors.\"\"\"\n",
    "    def __init__(self, N, market_depth):\n",
    "        self.num_agents = N\n",
    "        self.lamda = market_depth\n",
    "        # Create agents\n",
    "        for i in range(self.num_agents):\n",
    "            a = Investor(i, self)"
   ]
  }
 ],
 "metadata": {
  "kernelspec": {
   "display_name": "Python 3",
   "language": "python",
   "name": "python3"
  },
  "language_info": {
   "codemirror_mode": {
    "name": "ipython",
    "version": 3
   },
   "file_extension": ".py",
   "mimetype": "text/x-python",
   "name": "python",
   "nbconvert_exporter": "python",
   "pygments_lexer": "ipython3",
   "version": "3.6.5"
  }
 },
 "nbformat": 4,
 "nbformat_minor": 2
}
